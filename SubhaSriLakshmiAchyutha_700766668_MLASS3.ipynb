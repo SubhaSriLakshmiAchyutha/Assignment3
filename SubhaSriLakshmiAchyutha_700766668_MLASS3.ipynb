{
  "nbformat": 4,
  "nbformat_minor": 0,
  "metadata": {
    "colab": {
      "provenance": []
    },
    "kernelspec": {
      "name": "python3",
      "display_name": "Python 3"
    },
    "language_info": {
      "name": "python"
    }
  },
  "cells": [
    {
      "cell_type": "code",
      "execution_count": null,
      "metadata": {
        "id": "A19_DF_UInPq"
      },
      "outputs": [],
      "source": [
        "# ML ASSIGNMENT-3 // 700766668\n"
      ]
    },
    {
      "cell_type": "code",
      "source": [
        "# 1. Numpy:"
      ],
      "metadata": {
        "id": "FoqSVgbjI5ZQ"
      },
      "execution_count": null,
      "outputs": []
    },
    {
      "cell_type": "code",
      "source": [
        "#a\n",
        "# Creating random vector of size 15 having only Integers in the range 1-20.\n",
        "import numpy as np\n",
        "v =  np.random.randint(1,20,(15,))\n",
        "\n",
        "# Reshaping the array to 3 by 5\n",
        "arr = v.reshape(3,5)\n",
        "print(arr.shape)\n",
        "print(arr)\n",
        "\n",
        "# Replacing the max in each row by 0\n",
        "row_max = arr.max(axis=1).reshape(-1,1)\n",
        "arr = np.where(arr == row_max, 0, arr)\n",
        "print('\\n',arr)"
      ],
      "metadata": {
        "colab": {
          "base_uri": "https://localhost:8080/"
        },
        "id": "jlOEbd8_I5yv",
        "outputId": "7703dac1-d01a-47f8-ed65-0b210947b528"
      },
      "execution_count": 1,
      "outputs": [
        {
          "output_type": "stream",
          "name": "stdout",
          "text": [
            "(3, 5)\n",
            "[[14  2 19 14 10]\n",
            " [12 11  7 10 16]\n",
            " [16  8  9  5  4]]\n",
            "\n",
            " [[14  2  0 14 10]\n",
            " [12 11  7 10  0]\n",
            " [ 0  8  9  5  4]]\n"
          ]
        }
      ]
    },
    {
      "cell_type": "code",
      "source": [
        "# Create a 2-dimensional array of size 4 x 3 (composed of 4-byte integer elements), also print the shape, type and data type of the array\n",
        "x = np.array([[1, 2, 3], [4, 5, 6], [7, 8, 9], [10, 5, 7]], np.int32)\n",
        "print('Shape:', x.shape)\n",
        "print('Type:', type(x))\n",
        "print('Data type:', x.dtype)"
      ],
      "metadata": {
        "colab": {
          "base_uri": "https://localhost:8080/"
        },
        "id": "VHGPHIbzI594",
        "outputId": "09fd5087-fcd4-4c7f-c84e-59910c828939"
      },
      "execution_count": 2,
      "outputs": [
        {
          "output_type": "stream",
          "name": "stdout",
          "text": [
            "Shape: (4, 3)\n",
            "Type: <class 'numpy.ndarray'>\n",
            "Data type: int32\n"
          ]
        }
      ]
    },
    {
      "cell_type": "code",
      "source": [
        "#B\n",
        "import numpy as np\n",
        "\n",
        "# create the square array\n",
        "A = np.array([[3, -2], [1, 0]])\n",
        "\n",
        "# compute eigenvalues and eigenvectors\n",
        "eigenvalues, eigenvectors = np.linalg.eig(A)\n",
        "\n",
        "# print the results\n",
        "print(\"Eigenvalues: \", eigenvalues)\n",
        "print(\"Right Eigenvectors: \\n\", eigenvectors)"
      ],
      "metadata": {
        "colab": {
          "base_uri": "https://localhost:8080/"
        },
        "id": "S8jGxl32I6AF",
        "outputId": "756e5a49-52a7-4b7d-d9f1-393ef61ffd35"
      },
      "execution_count": 3,
      "outputs": [
        {
          "output_type": "stream",
          "name": "stdout",
          "text": [
            "Eigenvalues:  [2. 1.]\n",
            "Right Eigenvectors: \n",
            " [[0.89442719 0.70710678]\n",
            " [0.4472136  0.70710678]]\n"
          ]
        }
      ]
    },
    {
      "cell_type": "code",
      "source": [
        "#C\n",
        "import numpy as np\n",
        "\n",
        "# create the array\n",
        "A = np.array([[0, 1, 2], [3, 4, 5]])\n",
        "\n",
        "# compute the sum of diagonal elements\n",
        "diagonal_sum = np.trace(A)\n",
        "\n",
        "# print the result\n",
        "print(\"Sum of diagonal elements: \", diagonal_sum)"
      ],
      "metadata": {
        "colab": {
          "base_uri": "https://localhost:8080/"
        },
        "id": "T1y1hoF8I6Cc",
        "outputId": "973d1d6a-14fb-4e1f-d336-3fd4d1529686"
      },
      "execution_count": 4,
      "outputs": [
        {
          "output_type": "stream",
          "name": "stdout",
          "text": [
            "Sum of diagonal elements:  4\n"
          ]
        }
      ]
    },
    {
      "cell_type": "code",
      "source": [
        "#D\n",
        "import numpy as np\n",
        "\n",
        "# create the original array\n",
        "original_array = np.array([[1, 2], [3, 4], [5, 6]])\n",
        "\n",
        "# reshape the array to a new shape\n",
        "new_array = original_array.reshape((2, 3))\n",
        "\n",
        "# print both arrays to verify the data is not changed\n",
        "print(\"Original array:\\n\", original_array)\n",
        "print(\"New array:\\n\", new_array)"
      ],
      "metadata": {
        "colab": {
          "base_uri": "https://localhost:8080/"
        },
        "id": "LPo1cgyqI6FC",
        "outputId": "9cc70342-6901-4aa1-e038-dbf2b274c94b"
      },
      "execution_count": 5,
      "outputs": [
        {
          "output_type": "stream",
          "name": "stdout",
          "text": [
            "Original array:\n",
            " [[1 2]\n",
            " [3 4]\n",
            " [5 6]]\n",
            "New array:\n",
            " [[1 2 3]\n",
            " [4 5 6]]\n"
          ]
        }
      ]
    },
    {
      "cell_type": "code",
      "source": [
        "# Reshape 2x3:\n",
        "import numpy as np\n",
        "\n",
        "# create the original array\n",
        "original_array = np.array([[1, 2, 3], [4, 5, 6]])\n",
        "\n",
        "# reshape the array to a new shape\n",
        "new_array = original_array.reshape((2, 3))\n",
        "\n",
        "# print both arrays to verify the data is not changed\n",
        "print(\"Original array:\\n\", original_array)\n",
        "print(\"New array:\\n\", new_array)"
      ],
      "metadata": {
        "colab": {
          "base_uri": "https://localhost:8080/"
        },
        "id": "UtNauUpmI6HW",
        "outputId": "4798d46a-a3b3-4892-c644-b5a390d18cf5"
      },
      "execution_count": 6,
      "outputs": [
        {
          "output_type": "stream",
          "name": "stdout",
          "text": [
            "Original array:\n",
            " [[1 2 3]\n",
            " [4 5 6]]\n",
            "New array:\n",
            " [[1 2 3]\n",
            " [4 5 6]]\n"
          ]
        }
      ]
    },
    {
      "cell_type": "code",
      "source": [],
      "metadata": {
        "id": "C7JXyu7YI6Pc"
      },
      "execution_count": null,
      "outputs": []
    }
  ]
}